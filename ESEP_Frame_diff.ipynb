{
 "cells": [
  {
   "cell_type": "code",
   "execution_count": 5,
   "id": "22507a38-5a21-43a8-88d1-a7c1049f6ec0",
   "metadata": {},
   "outputs": [
    {
     "name": "stdout",
     "output_type": "stream",
     "text": [
      "/opt/conda/envs/anaconda-panel-2023.05-py310/bin/python\n"
     ]
    }
   ],
   "source": [
    "import sys\n",
    "print(sys.executable)"
   ]
  },
  {
   "cell_type": "code",
   "execution_count": 6,
   "id": "fb612518-193a-4aa2-ac27-a3a55b390938",
   "metadata": {},
   "outputs": [
    {
     "name": "stdout",
     "output_type": "stream",
     "text": [
      "Defaulting to user installation because normal site-packages is not writeable\n",
      "Looking in links: /usr/share/pip-wheels\n",
      "Requirement already satisfied: numpy==1.24.4 in ./.local/lib/python3.11/site-packages (1.24.4)\n",
      "Defaulting to user installation because normal site-packages is not writeable\n",
      "Looking in links: /usr/share/pip-wheels\n",
      "Requirement already satisfied: opencv-python==4.7.0.72 in ./.local/lib/python3.11/site-packages (4.7.0.72)\n",
      "Requirement already satisfied: numpy>=1.21.2 in ./.local/lib/python3.11/site-packages (from opencv-python==4.7.0.72) (1.24.4)\n"
     ]
    }
   ],
   "source": [
    "# !pip install numpy==1.24.4\n",
    "# !pip install opencv-python==4.7.0.72\n",
    "\n"
   ]
  },
  {
   "cell_type": "code",
   "execution_count": 1,
   "id": "0a26f287-73ab-4a12-97d9-97bddec023b1",
   "metadata": {},
   "outputs": [
    {
     "name": "stdout",
     "output_type": "stream",
     "text": [
      "4.7.0\n"
     ]
    }
   ],
   "source": [
    "!python -c \"import cv2; print(cv2.__version__)\"\n"
   ]
  },
  {
   "cell_type": "code",
   "execution_count": 2,
   "id": "25e0f451-1c55-4e13-96eb-6b4365c7f634",
   "metadata": {},
   "outputs": [
    {
     "name": "stdout",
     "output_type": "stream",
     "text": [
      "Defaulting to user installation because normal site-packages is not writeable\n",
      "Looking in links: /usr/share/pip-wheels\n",
      "Requirement already satisfied: opencv-python in /home/c2eaefce-1e40-44c3-8824-0d44764c3b4c/.local/lib/python3.11/site-packages (4.7.0.72)\n",
      "Requirement already satisfied: numpy>=1.21.2 in /home/c2eaefce-1e40-44c3-8824-0d44764c3b4c/.local/lib/python3.11/site-packages (from opencv-python) (1.24.4)\n"
     ]
    }
   ],
   "source": [
    "import sys\n",
    "!{sys.executable} -m pip install opencv-python\n"
   ]
  },
  {
   "cell_type": "code",
   "execution_count": 28,
   "id": "fe01f69f-9699-44b3-96b9-67a23df27d1e",
   "metadata": {},
   "outputs": [
    {
     "name": "stdout",
     "output_type": "stream",
     "text": [
      "/home/c2eaefce-1e40-44c3-8824-0d44764c3b4c/ESEP\n",
      "['Jul08_2025_152959delay_033.tif', 'vars.json', 'Jul08_2025_152959delay_246.tif', 'Jul08_2025_152959delay_252.tif', 'Jul08_2025_152959delay_121.tif', 'Jul08_2025_152959delay_091.tif', 'Jul08_2025_152959delay_023.tif', 'Jul08_2025_152959delay_037.tif', 'Jul08_2025_152959delay_226.tif', 'Jul08_2025_152959delay_227.tif', 'Jul08_2025_152959delay_105.tif', 'Jul08_2025_152959delay_019.tif', 'Jul08_2025_152959delay_010.tif', 'Jul08_2025_152959delay_224.tif', 'Jul08_2025_152959delay_294.tif', 'Jul08_2025_152959delay_214.tif', 'Jul08_2025_152959delay_094.tif', 'Jul08_2025_152959delay_053.tif', 'Jul08_2025_152959delay_027.tif', 'Jul08_2025_152959delay_247.tif', 'Jul08_2025_152959delay_142.tif', 'Jul08_2025_152959delay_073.tif', 'Jul08_2025_152959delay_191.tif', 'Jul08_2025_152959delay_153.tif', 'Jul08_2025_152959delay_210.tif', 'Jul08_2025_152959delay_177.tif', 'Jul08_2025_152959delay_206.tif', 'Jul08_2025_152959delay_282.tif', 'Jul08_2025_152959delay_115.tif', 'Jul08_2025_152959delay_219.tif', 'Jul08_2025_152959delay_102.tif', 'Jul08_2025_152959delay_312.tif', 'Jul08_2025_152959delay_280.tif', 'Jul08_2025_152959delay_304.tif', 'Jul08_2025_152959delay_249.tif', 'Jul08_2025_152959delay_051.tif', 'Jul08_2025_152959delay_166.tif', 'Jul08_2025_152959delay_197.tif', 'Jul08_2025_152959delay_085.tif', 'Jul08_2025_152959delay_044.tif', 'Jul08_2025_152959delay_239.tif', 'Jul08_2025_152959delay_288.tif', 'Jul08_2025_152959delay_279.tif', 'Jul08_2025_152959delay_118.tif', 'Jul08_2025_152959delay_050.tif', 'Jul08_2025_152959delay_133.tif', 'Jul08_2025_152959delay_208.tif', 'Jul08_2025_152959delay_026.tif', 'Jul08_2025_152959delay_221.tif', 'Jul08_2025_152959delay_274.tif', 'Jul08_2025_152959delay_126.tif', 'Jul08_2025_152959delay_261.tif', 'Jul08_2025_152959delay_307.tif', 'Jul08_2025_152959delay_154.tif', 'Jul08_2025_152959delay_004.tif', 'Jul08_2025_152959delay_174.tif', 'Jul08_2025_152959delay_123.tif', 'Jul08_2025_152959delay_139.tif', 'Jul08_2025_152959delay_148.tif', 'Jul08_2025_152959delay_060.tif', 'Jul08_2025_152959delay_207.tif', 'Jul08_2025_152959delay_278.tif', 'Jul08_2025_152959delay_202.tif', 'Jul08_2025_152959delay_066.tif', 'Jul08_2025_152959delay_020.tif', 'Jul08_2025_152959delay_189.tif', 'Jul08_2025_152959delay_077.tif', 'Jul08_2025_152959delay_111.tif', 'Jul08_2025_152959delay_006.tif', 'Jul08_2025_152959delay_097.tif', 'Jul08_2025_152959delay_194.tif', 'Jul08_2025_152959delay_185.tif', 'Jul08_2025_152959delay_222.tif', 'Jul08_2025_152959delay_264.tif', 'Jul08_2025_152959delay_135.tif', 'Jul08_2025_152959delay_059.tif', 'Jul08_2025_152959delay_125.tif', 'Jul08_2025_152959delay_235.tif', 'Jul08_2025_152959delay_300.tif', 'Jul08_2025_152959delay_089.tif', 'Jul08_2025_152959delay_200.tif', 'Jul08_2025_152959delay_284.tif', 'Jul08_2025_152959delay_107.tif', 'Jul08_2025_152959delay_298.tif', 'Jul08_2025_152959delay_055.tif', 'Jul08_2025_152959delay_058.tif', 'Jul08_2025_152959delay_100.tif', 'Jul08_2025_152959delay_043.tif', 'Jul08_2025_152959delay_180.tif', 'Jul08_2025_152959delay_223.tif', 'Jul08_2025_152959delay_151.tif', 'Jul08_2025_152959delay_164.tif', 'Jul08_2025_152959delay_063.tif', 'Jul08_2025_152959delay_201.tif', 'Jul08_2025_152959delay_117.tif', 'Jul08_2025_152959delay_039.tif', 'Jul08_2025_152959delay_241.tif', 'Jul08_2025_152959delay_187.tif', 'Jul08_2025_152959delay_266.tif', 'Jul08_2025_152959delay_198.tif', 'Jul08_2025_152959delay_096.tif', 'Jul08_2025_152959delay_001.tif', '.ipynb_checkpoints', 'Jul08_2025_152959delay_136.tif', 'Jul08_2025_152959delay_267.tif', 'Jul08_2025_152959delay_054.tif', 'Jul08_2025_152959delay_124.tif', 'Jul08_2025_152959delay_113.tif', 'Jul08_2025_152959delay_078.tif', 'Jul08_2025_152959delay_040.tif', 'Jul08_2025_152959delay_172.tif', 'Jul08_2025_152959delay_179.tif', 'Jul08_2025_152959delay_265.tif', 'Jul08_2025_152959delay_173.tif', 'Jul08_2025_152959delay_299.tif', 'Jul08_2025_152959delay_003.tif', 'vars.json_18', 'Jul08_2025_152959delay_131.tif', 'Jul08_2025_152959delay_112.tif', 'Jul08_2025_152959delay_046.tif', 'Folder n=22', 'Jul08_2025_152959delay_236.tif', 'Jul08_2025_152959delay_041.tif', 'Jul08_2025_152959delay_031.tif', 'Jul08_2025_152959delay_122.tif', 'Jul08_2025_152959delay_071.tif', 'Jul08_2025_152959delay_248.tif', 'Jul08_2025_152959delay_067.tif', 'Jul08_2025_152959delay_101.tif', 'Jul08_2025_152959delay_243.tif', 'Jul08_2025_152959delay_269.tif', 'Folder n=20', 'Jul08_2025_152959delay_292.tif', 'Jul08_2025_152959delay_217.tif', 'Jul08_2025_152959delay_178.tif', 'Jul08_2025_152959delay_109.tif', 'Jul08_2025_152959delay_237.tif', 'Jul08_2025_152959delay_215.tif', 'Jul08_2025_152959delay_143.tif', 'Jul08_2025_152959delay_012.tif', 'Jul08_2025_152959delay_213.tif', 'Jul08_2025_152959delay_240.tif', 'Jul08_2025_152959delay_169.tif', 'Jul08_2025_152959delay_022.tif', 'Jul08_2025_152959delay_168.tif', 'Jul08_2025_152959delay_099.tif', 'Jul08_2025_152959delay_183.tif', 'Jul08_2025_152959delay_171.tif', 'Jul08_2025_152959delay_245.tif', 'Jul08_2025_152959delay_281.tif', 'Jul08_2025_152959delay_308.tif', 'Jul08_2025_152959delay_052.tif', 'Jul08_2025_152959delay_106.tif', 'Jul08_2025_152959delay_065.tif', 'Jul08_2025_152959delay_144.tif', 'Jul08_2025_152959delay_098.tif', 'Jul08_2025_152959delay_258.tif', 'Jul08_2025_152959delay_309.tif', 'Jul08_2025_152959delay_030.tif', 'Jul08_2025_152959delay_313.tif', 'Jul08_2025_152959delay_211.tif', 'Jul08_2025_152959delay_092.tif', 'Jul08_2025_152959delay_140.tif', 'Jul08_2025_152959delay_228.tif', 'Jul08_2025_152959delay_002.tif', 'Jul08_2025_152959delay_277.tif', 'Jul08_2025_152959delay_014.tif', 'Jul08_2025_152959delay_273.tif', 'Jul08_2025_152959delay_021.tif', 'Jul08_2025_152959delay_285.tif', 'Jul08_2025_152959delay_069.tif', 'Jul08_2025_152959delay_011.tif', 'Jul08_2025_152959delay_130.tif', 'Jul08_2025_152959delay_305.tif', 'Jul08_2025_152959delay_275.tif', 'Jul08_2025_152959delay_229.tif', 'Jul08_2025_152959delay_083.tif', 'Jul08_2025_152959delay_015.tif', 'Jul08_2025_152959delay_196.tif', 'Jul08_2025_152959delay_260.tif', 'Jul08_2025_152959delay_199.tif', 'Jul08_2025_152959delay_029.tif', 'Jul08_2025_152959delay_086.tif', 'Jul08_2025_152959delay_149.tif', 'Jul08_2025_152959delay_045.tif', 'Jul08_2025_152959delay_047.tif', 'Jul08_2025_152959delay_024.tif', 'Folder n=45', 'Jul08_2025_152959delay_141.tif', 'Jul08_2025_152959delay_233.tif', 'Jul08_2025_152959delay_195.tif', 'Jul08_2025_152959delay_225.tif', 'Jul08_2025_152959delay_072.tif', 'Jul08_2025_152959delay_181.tif', 'Jul08_2025_152959delay_018.tif', 'Jul08_2025_152959delay_088.tif', 'Jul08_2025_152959delay_161.tif', 'Jul08_2025_152959delay_152.tif', 'Jul08_2025_152959delay_306.tif', 'Jul08_2025_152959delay_188.tif', 'Jul08_2025_152959delay_064.tif', 'Jul08_2025_152959delay_216.tif', 'Jul08_2025_152959delay_032.tif', 'Jul08_2025_152959delay_093.tif', 'Jul08_2025_152959delay_034.tif', 'Jul08_2025_152959delay_042.tif', 'Jul08_2025_152959delay_017.tif', 'Jul08_2025_152959delay_175.tif', 'Jul08_2025_152959delay_150.tif', 'Jul08_2025_152959delay_276.tif', 'Jul08_2025_152959delay_270.tif', 'Jul08_2025_152959delay_120.tif', 'Jul08_2025_152959delay_038.tif', 'Jul08_2025_152959delay_076.tif', 'Jul08_2025_152959delay_257.tif', 'Jul08_2025_152959delay_146.tif', 'Jul08_2025_152959delay_008.tif', 'Jul08_2025_152959delay_218.tif', 'Jul08_2025_152959delay_132.tif', 'Jul08_2025_152959delay_176.tif', 'Jul08_2025_152959delay_079.tif', 'Jul08_2025_152959delay_193.tif', 'Jul08_2025_152959delay_297.tif', 'Folder n=18', 'Jul08_2025_152959delay_163.tif', 'Jul08_2025_152959delay_244.tif', 'Jul08_2025_152959delay_145.tif', 'Jul08_2025_152959delay_005.tif', 'Jul08_2025_152959delay_028.tif', 'Jul08_2025_152959delay_170.tif', 'Jul08_2025_152959delay_070.tif', 'Jul08_2025_152959delay_156.tif', 'Jul08_2025_152959delay_165.tif', 'Jul08_2025_152959delay_310.tif', 'Jul08_2025_152959delay_263.tif', 'Jul08_2025_152959delay_049.tif', 'Jul08_2025_152959delay_290.tif', 'Jul08_2025_152959delay_301.tif', 'Jul08_2025_152959delay_203.tif', 'Jul08_2025_152959delay_048.tif', 'Jul08_2025_152959delay_271.tif', 'Jul08_2025_152959delay_205.tif', 'Jul08_2025_152959delay_013.tif', 'Jul08_2025_152959delay_062.tif', 'Jul08_2025_152959delay_129.tif', 'Jul08_2025_152959delay_084.tif', 'Jul08_2025_152959delay_087.tif', 'Jul08_2025_152959delay_289.tif', 'Jul08_2025_152959delay_250.tif', 'Jul08_2025_152959delay_138.tif', 'Jul08_2025_152959delay_238.tif', 'Jul08_2025_152959delay_108.tif', 'Jul08_2025_152959delay_184.tif', 'Jul08_2025_152959delay_036.tif', 'Jul08_2025_152959delay_137.tif', 'Jul08_2025_152959delay_287.tif', 'Jul08_2025_152959delay_016.tif', 'Jul08_2025_152959delay_056.tif', 'Jul08_2025_152959delay_311.tif', 'Jul08_2025_152959delay_182.tif', 'Jul08_2025_152959delay_190.tif', 'Jul08_2025_152959delay_242.tif', 'Jul08_2025_152959delay_254.tif', 'Jul08_2025_152959delay_110.tif', 'Jul08_2025_152959delay_272.tif', 'Jul08_2025_152959delay_104.tif', 'Jul08_2025_152959delay_253.tif', 'Jul08_2025_152959delay_103.tif', 'Jul08_2025_152959delay_000.tif', 'Jul08_2025_152959delay_025.tif', 'Jul08_2025_152959delay_061.tif', 'Jul08_2025_152959delay_234.tif', 'Jul08_2025_152959delay_090.tif', 'Jul08_2025_152959delay_158.tif', 'Jul08_2025_152959delay_167.tif', 'Jul08_2025_152959delay_296.tif', 'Jul08_2025_152959delay_262.tif', 'Jul08_2025_152959delay_075.tif', 'Jul08_2025_152959delay_232.tif', 'Jul08_2025_152959delay_291.tif', 'Jul08_2025_152959delay_293.tif', 'Jul08_2025_152959delay_134.tif', 'Jul08_2025_152959delay_007.tif', 'Jul08_2025_152959delay_268.tif', 'Jul08_2025_152959delay_119.tif', 'Jul08_2025_152959delay_095.tif', 'Jul08_2025_152959delay_295.tif', 'Jul08_2025_152959delay_230.tif', 'Jul08_2025_152959delay_035.tif', 'Jul08_2025_152959delay_192.tif', 'Jul08_2025_152959delay_209.tif', 'Jul08_2025_152959delay_128.tif', 'Jul08_2025_152959delay_283.tif', 'Jul08_2025_152959delay_082.tif', 'Jul08_2025_152959delay_256.tif', 'Jul08_2025_152959delay_155.tif', 'Jul08_2025_152959delay_127.tif', 'Jul08_2025_152959delay_057.tif', 'Jul08_2025_152959delay_302.tif', 'Jul08_2025_152959delay_160.tif', 'Jul08_2025_152959delay_286.tif', 'Jul08_2025_152959delay_147.tif', 'Jul08_2025_152959delay_114.tif', 'Jul08_2025_152959delay_220.tif', 'Jul08_2025_152959delay_081.tif', 'Jul08_2025_152959delay_204.tif', 'Jul08_2025_152959delay_255.tif', 'Jul08_2025_152959delay_162.tif', 'Jul08_2025_152959delay_009.tif', 'Jul08_2025_152959delay_251.tif', 'Jul08_2025_152959delay_157.tif', 'Jul08_2025_152959delay_159.tif', 'Jul08_2025_152959delay_212.tif', 'Folder n=6', 'Jul08_2025_152959delay_231.tif', 'Jul08_2025_152959delay_259.tif', 'Jul08_2025_152959delay_116.tif', 'Jul08_2025_152959delay_186.tif', 'Folder n=8', 'Jul08_2025_152959delay_068.tif', 'Jul08_2025_152959delay_303.tif', 'Jul08_2025_152959delay_074.tif', 'Jul08_2025_152959delay_080.tif']\n"
     ]
    },
    {
     "data": {
      "text/plain": [
       "{'NotebookApp': {'autosave_interval': 30000}}"
      ]
     },
     "execution_count": 28,
     "metadata": {},
     "output_type": "execute_result"
    }
   ],
   "source": [
    "import os\n",
    "\n",
    "!pwd\n",
    "\n",
    "os.chdir('.')\n",
    "\n",
    "image_dir = '/home/c2eaefce-1e40-44c3-8824-0d44764c3b4c/ESEP/Delay Time 07102025'\n",
    "print(os.listdir(image_dir))\n",
    "\n",
    "{\n",
    "  \"NotebookApp\": {\n",
    "      \"autosave_interval\": 30000  # in ms (30 seconds)\n",
    "  }\n",
    "}\n",
    "\n"
   ]
  },
  {
   "cell_type": "code",
   "execution_count": 29,
   "id": "5efa4081-d0ca-47f9-b115-3385e80da82a",
   "metadata": {},
   "outputs": [
    {
     "name": "stdout",
     "output_type": "stream",
     "text": [
      "ls: cannot access 'Jul08_2025_152959delay_054.tif': No such file or directory\n"
     ]
    }
   ],
   "source": [
    "# def frame_positions(frame_number, x, y):\n",
    "#     # inputs frame number and the position of the target object in that frame. \n",
    "#     # Outputs the relative position (in pixels) to the first frame coordinates\n",
    "    \n",
    "    \n",
    "#     relative_frames = {}\n",
    "    \n",
    "'Jul08_2025_152959delay_313.tif' in os.listdir(image_dir)\n",
    "!ls -l Jul08_2025_152959delay_054.tif\n"
   ]
  },
  {
   "cell_type": "code",
   "execution_count": 46,
   "id": "e5cb8e72-b0ab-4829-b224-d3b2860f23a6",
   "metadata": {
    "jp-MarkdownHeadingCollapsed": true
   },
   "outputs": [
    {
     "name": "stdout",
     "output_type": "stream",
     "text": [
      "Folder created or already exists: /home/c2eaefce-1e40-44c3-8824-0d44764c3b4c/ESEP/Delay Time 07102025/Folder n=18\n",
      "✅ Saved 296 averages for 12 ROIs to /home/c2eaefce-1e40-44c3-8824-0d44764c3b4c/ESEP/Delay Time 07102025/Folder n=18/average_values_18.csv\n"
     ]
    }
   ],
   "source": [
    "###### import cv2\n",
    "import numpy as np\n",
    "import os\n",
    "import csv\n",
    "\n",
    "n = 18 # number of shots between pairs\n",
    "output_dir = f'/home/c2eaefce-1e40-44c3-8824-0d44764c3b4c/ESEP/Delay Time 07102025/Folder n={n}'\n",
    "\n",
    "os.makedirs(output_dir, exist_ok=True) # create output folder if doesn't already exist\n",
    "print(f\"Folder created or already exists: {output_dir}\")\n",
    "\n",
    "csv_path = os.path.join(output_dir, f'average_values_{n}.csv')\n",
    "\n",
    "for i in range(0, 314 - n): \n",
    "    if i == 0: #create header in csv file\n",
    "        with open(csv_path, 'w', newline='') as f:\n",
    "            writer = csv.writer(f)\n",
    "            header = ['Image_Index'] + [f'ROI{j}_Avg' for j in range(1, 13)]\n",
    "            writer.writerow(header)\n",
    "            \n",
    "    #For Loop divides images that are n shots apart and creates a new divided image \n",
    "    #for each of the (314 - n) pairs. These pairs are saved in the output_dir \n",
    "    \n",
    "    formatted = f'{i:03d}' #format as 3 digit int\n",
    "    formatted_n = f'{i + n:03d}'\n",
    "\n",
    "    file1 = os.path.join(image_dir, f'Jul08_2025_152959delay_{formatted}.tif')\n",
    "    file2 = os.path.join(image_dir, f'Jul08_2025_152959delay_{formatted_n}.tif')\n",
    "\n",
    "    #debugging\n",
    "    if not os.path.exists(file2):\n",
    "        print(f\"❌ File does not exist: {file2}\")\n",
    "        continue\n",
    "    \n",
    "    \n",
    "    img1 = cv2.imread(file1, cv2.IMREAD_UNCHANGED)\n",
    "    img2 = cv2.imread(file2, cv2.IMREAD_UNCHANGED)\n",
    "\n",
    "    #debugging\n",
    "    if img1 is None:\n",
    "        print(f\"⚠️ Could not read file: {file1}\")\n",
    "        continue\n",
    "    if img2 is None:\n",
    "        print(f\"⚠️ Could not read file: {file2}\")\n",
    "        continue\n",
    "\n",
    "    img1 = img1.astype(np.float32)\n",
    "    img2 = img2.astype(np.float32)\n",
    "\n",
    "    epsilon = 1\n",
    "    img2[img2 < epsilon] = epsilon # prevent large deviations due to low pixel values\n",
    "    \n",
    "    divided = cv2.divide(img1, img2, scale=1.0)  # divide images\n",
    "\n",
    "\n",
    "# Normalize result for visualization\n",
    "    # divided = cv2.normalize(divided, None, 0, 255, cv2.NORM_MINMAX) \n",
    "    # divided = divided.astype(np.uint8)\n",
    "\n",
    "    base_name = f'Division{i}'\n",
    "\n",
    "#uncomment to save divided images\n",
    "    # cv2.imwrite(os.path.join(output_dir,f'{base_name}.tif'), divided)\n",
    "\n",
    "    #define roi variables using fiji\n",
    "    h = 8\n",
    "    w = 100\n",
    "    \n",
    "    x1 = 1785\n",
    "    y1 = 291\n",
    "\n",
    "\n",
    "    x2 = 1810\n",
    "    y2 = 705\n",
    "  \n",
    "\n",
    "    x3 = 1793\n",
    "    y3 = 1123\n",
    "    \n",
    "\n",
    "    x4 = 1386\n",
    "    y4 = 286\n",
    "\n",
    "\n",
    "    x5 = 1393\n",
    "    y5 = 702\n",
    "\n",
    "\n",
    "    x6 = 1306\n",
    "    y6 = 1115\n",
    "    \n",
    "\n",
    "    x7 = 875\n",
    "    y7 = 281\n",
    "    \n",
    "\n",
    "    x8 = 876\n",
    "    y8 = 697\n",
    "\n",
    "\n",
    "    x9 = 888\n",
    "    y9 = 1118\n",
    " \n",
    "\n",
    "    x10 = 478\n",
    "    y10 = 276\n",
    "\n",
    "\n",
    "    x11 = 442\n",
    "    y11 = 694\n",
    "\n",
    "\n",
    "    x12 = 468\n",
    "    y12 = 1119\n",
    "\n",
    "    \n",
    "    rois = [\n",
    "    (x1, y1, x1 + w, y1 + h),        # ROI 1\n",
    "    (x2, y2, x2 + w, y2 + h),        # ROI 2\n",
    "    (x3, y3, x3 + w, y3 + h),        # ROI 3\n",
    "    (x4, y4, x4 + w, y4 + h),        # ROI 4\n",
    "    (x5, y5, x5 + w, y5 + h),        # ROI 5\n",
    "    (x6, y6, x6 + w, y6 + h),        # ROI 6\n",
    "    (x7, y7, x7 + w, y7 + h),        # ROI 7\n",
    "    (x8, y8, x8 + w, y8 + h),        # ROI 8\n",
    "    (x9, y9, x9 + w, y9 + h),        # ROI 9\n",
    "    (x10, y10, x10 + w, y10 + h),    # ROI 10\n",
    "    (x11, y11, x11 + w, y11 + h),    # ROI 11\n",
    "    (x12, y12, x12 + w, y12 + h)]    # ROI 12\n",
    "\n",
    "\n",
    "    # Extract each ROI\n",
    "    for idx, (a1, b1, a2, b2) in enumerate(rois, start=1):\n",
    "        roi = divided[b1:b2, a1:a2]\n",
    "        roi_filename = f'{base_name}_ROI{idx}.tif'\n",
    "        # cv2.imwrite(os.path.join(output_dir, roi_filename), roi)\n",
    "        # uncomment to save images\n",
    "    \n",
    "    \n",
    "\n",
    "# Create CSV file of roi averages\n",
    "    # Extract and compute average of each ROI\n",
    "    roi_avgs = []\n",
    "\n",
    "    for idx, (a1, b1, a2, b2) in enumerate(rois, start=1):\n",
    "        roi = divided[b1:b2, a1:a2]\n",
    "    \n",
    "    # Flatten ROI to 1D for percentile computation\n",
    "        flat_roi = roi.flatten()\n",
    "    \n",
    "    # Compute 1st and 99th percentiles\n",
    "        p_low, p_high = np.percentile(flat_roi, [20, 80])\n",
    "    \n",
    "    # Clip values between these percentiles\n",
    "        clipped_roi = np.clip(flat_roi, p_low, p_high)\n",
    "    \n",
    "    # Compute average of clipped values\n",
    "        roi_avg = np.mean(clipped_roi)\n",
    "    \n",
    "        roi_avgs.append(roi_avg)\n",
    "\n",
    "    # Optional: debug info\n",
    "    if roi_avg > 1.5 or roi_avg < 0.5:  # adjust based on expected signal scale\n",
    "        print(f\"📊 ROI{idx} Frame {i}: avg = {roi_avg:.2f}, min = {flat_roi.min():.2f}, max = {flat_roi.max():.2f}, p_low = {p_low:.2f}, p_high = {p_high:.2f}\")\n",
    "\n",
    "    \n",
    "    # Save average values to CSV\n",
    "    with open(csv_path, 'a', newline='') as f:\n",
    "        writer = csv.writer(f)\n",
    "        writer.writerow([i] + roi_avgs)\n",
    "\n",
    "    #confirm the data is saved to csv\n",
    "    if i == 313 - n:\n",
    "        print(f\"✅ Saved {314-n} averages for 12 ROIs to {csv_path}\")\n"
   ]
  },
  {
   "cell_type": "code",
   "execution_count": 49,
   "id": "f471f8ad-e31d-4a76-be2a-6cd64f6ab105",
   "metadata": {},
   "outputs": [],
   "source": [
    "import json\n",
    "\n",
    "# Variables you want to save\n",
    "vars_to_save = {\n",
    "    'n': n,\n",
    "    'output_dir': output_dir\n",
    "}\n",
    "\n",
    "# Ensure the parent directory exists\n",
    "os.makedirs(image_dir, exist_ok=True)\n",
    "\n",
    "# Define the full path including the filename\n",
    "json_path = os.path.join(image_dir, 'vars.json')\n",
    "\n",
    "# Save to the JSON file\n",
    "with open(json_path, 'w') as f:\n",
    "    json.dump(vars_to_save, f, indent=4)  # indent = 4 for readability\n"
   ]
  },
  {
   "cell_type": "code",
   "execution_count": 43,
   "id": "806c1778-822c-45f5-b519-90bc32d566b4",
   "metadata": {},
   "outputs": [
    {
     "name": "stdout",
     "output_type": "stream",
     "text": [
      "Delay_Time_Graphs-checkpoint.ipynb  ESEP_Frame_diff-checkpoint.ipynb\n"
     ]
    }
   ],
   "source": [
    "ls .ipynb_checkpoints/\n"
   ]
  },
  {
   "cell_type": "code",
   "execution_count": null,
   "id": "77f0ed52-683b-49bc-b0b4-839cae0bfb32",
   "metadata": {},
   "outputs": [],
   "source": []
  }
 ],
 "metadata": {
  "kernelspec": {
   "display_name": "anaconda-panel-2023.05-py310",
   "language": "python",
   "name": "conda-env-anaconda-panel-2023.05-py310-py"
  },
  "language_info": {
   "codemirror_mode": {
    "name": "ipython",
    "version": 3
   },
   "file_extension": ".py",
   "mimetype": "text/x-python",
   "name": "python",
   "nbconvert_exporter": "python",
   "pygments_lexer": "ipython3",
   "version": "3.11.5"
  }
 },
 "nbformat": 4,
 "nbformat_minor": 5
}
